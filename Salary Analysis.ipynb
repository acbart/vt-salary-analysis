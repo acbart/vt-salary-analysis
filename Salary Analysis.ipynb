{
 "cells": [
  {
   "cell_type": "code",
   "execution_count": 106,
   "metadata": {},
   "outputs": [],
   "source": [
    "import pandas as pd\n",
    "import matplotlib.pyplot as plt\n",
    "import scipy.stats as st\n",
    "from math import sqrt, log10, log"
   ]
  },
  {
   "cell_type": "code",
   "execution_count": 99,
   "metadata": {},
   "outputs": [],
   "source": [
    "def parse_dollar(an_amount):\n",
    "    return int(an_amount.replace(\"$\", \"\").replace(\",\",\"\"))\n",
    "def make_k(an_amount):\n",
    "    return \"${}k\".format(round(an_amount/1000))\n",
    "def make_percent(an_amount):\n",
    "    return \"{}%\".format(round(100 * an_amount))\n",
    "def split_groups(dataframe):\n",
    "    values_per_group = {col_name:col for col_name, col in dataframe.groupby(1)[2]}\n",
    "    return values_per_group.values()\n",
    "def analyze_pvalue(pvalue):\n",
    "    if pvalue < .05:\n",
    "        print(\"Significantly different\")"
   ]
  },
  {
   "cell_type": "code",
   "execution_count": 31,
   "metadata": {},
   "outputs": [
    {
     "name": "stdout",
     "output_type": "stream",
     "text": [
      "Title\n",
      "Food Service Technician I          $22k\n",
      "Hsekeep &/or Apparel Worker I      $22k\n",
      "Trades Technician I                $23k\n",
      "Food Service Technician II         $24k\n",
      "Agricultural Specialist I          $25k\n",
      "Admin and Office Spec II           $27k\n",
      "Trainer and Instructor I           $28k\n",
      "Security Officer II                $28k\n",
      "Printing Technician II             $28k\n",
      "Trades Technician II               $28k\n",
      "Hsekeep &/or Apparel Worker II     $29k\n",
      "Emergency Coordinator I            $29k\n",
      "Laboratory and Research Tech       $29k\n",
      "Licensed Practical Nurse           $29k\n",
      "Store & Warehouse Spec II          $30k\n",
      "Security Officer III               $30k\n",
      "Education Support Spec I           $30k\n",
      "Direct Service Associate III       $30k\n",
      "Utility Plant Specialist I         $31k\n",
      "Transportation Operator II         $31k\n",
      "Food Service Technician III        $31k\n",
      "Compliance/Safety Officer II       $32k\n",
      "Natural Resource Spec II           $33k\n",
      "Direct Service Associate II        $33k\n",
      "Agricultural Specialist II         $33k\n",
      "Natural Resource Spec I            $34k\n",
      "Electronic Technician I            $34k\n",
      "Laboratory & Research Spec I       $35k\n",
      "Transportation Operator III        $35k\n",
      "Computer Operations Techn II       $35k\n",
      "                                  ...  \n",
      "Utility Plant Manager II           $86k\n",
      "Prog Admin Manager II              $87k\n",
      "Compliance Manager II              $87k\n",
      "Pilot II                           $91k\n",
      "Scientist Manager I                $92k\n",
      "Gen Admin Manager II               $92k\n",
      "Info Technology Specialist III     $92k\n",
      "Info Technology Specialist IV      $94k\n",
      "Research Professor AY              $96k\n",
      "Associate Professor                $96k\n",
      "Trades Manager II                  $99k\n",
      "Professional - Professor          $103k\n",
      "Research Assoc Professor AY       $104k\n",
      "Senior Research Scientist         $104k\n",
      "Info Technology Manager II        $108k\n",
      "Pharmacist II                     $110k\n",
      "Research Associate Professor      $111k\n",
      "Admin - Associate Professor       $123k\n",
      "Professor                         $128k\n",
      "Assoc Prof and Eminent Scholar    $131k\n",
      "Gen Admin Manager III             $131k\n",
      "Administrative - Instructor       $139k\n",
      "Administrative - Lecturer         $153k\n",
      "Admin - Assistant Professor       $167k\n",
      "Associate Professor ES CY         $175k\n",
      "Professor and Eminent Scholar     $194k\n",
      "Research Professor                $209k\n",
      "Admin - Professor and ES          $246k\n",
      "Administrative - Professor        $267k\n",
      "President VPI and SU              $771k\n",
      "Name: Pay, Length: 167, dtype: object\n"
     ]
    }
   ],
   "source": [
    "salaries = pd.read_csv('VTsalaries.csv')\n",
    "salaries.columns = ['Name', 'Title', 'Pay']\n",
    "salaries['Pay'] = salaries['Pay'].map(parse_dollar)\n",
    "\n",
    "print(salaries.groupby(\"Title\")[\"Pay\"].median().sort_values().map(make_k)) #.to_string()"
   ]
  },
  {
   "cell_type": "code",
   "execution_count": 68,
   "metadata": {},
   "outputs": [],
   "source": [
    "import gender_guesser.detector as gender\n",
    "\n",
    "GENDER_VALUES = {\n",
    "    'unknown': 0,\n",
    "    'andy': 0,\n",
    "    'male': -1,\n",
    "    'female': 1,\n",
    "    'mostly_male': -.5,\n",
    "    'mostly_female': .5\n",
    "}\n",
    "\n",
    "gd = gender.Detector()\n",
    "def estimate_gender(names):\n",
    "    name_parts = names.strip().split()\n",
    "    genders = [gd.get_gender(name.strip()) for name in name_parts[:-1]]\n",
    "    gender_values = [GENDER_VALUES[gender] for gender in genders]\n",
    "    estimated_gender = sum(gender_values)\n",
    "    if estimated_gender < 0:\n",
    "        return 'Male'\n",
    "    elif estimated_gender > 0:\n",
    "        return 'Female'\n",
    "    else:\n",
    "        return 'Unknown'\n",
    "salaries['Gender'] = salaries['Name'].apply(estimate_gender)\n",
    "named_salaries = salaries[salaries.Name != '(Name withheld)']\n",
    "gendered = named_salaries.groupby(\"Gender\")"
   ]
  },
  {
   "cell_type": "code",
   "execution_count": 78,
   "metadata": {},
   "outputs": [
    {
     "name": "stdout",
     "output_type": "stream",
     "text": [
      "         Count Percentage\n",
      "Gender                   \n",
      "Female    1491        36%\n",
      "Male      2250        54%\n",
      "Unknown    416        10%\n"
     ]
    }
   ],
   "source": [
    "# Counts\n",
    "gendered_count= pd.DataFrame()\n",
    "\n",
    "gendered_count['Count'] = gendered[\"Pay\"].count()\n",
    "\n",
    "gendered_count['Percentage'] = (gendered[\"Pay\"].count()/len(named_salaries)).map(make_percent)\n",
    "\n",
    "print(gendered_count)"
   ]
  },
  {
   "cell_type": "code",
   "execution_count": 81,
   "metadata": {},
   "outputs": [
    {
     "name": "stdout",
     "output_type": "stream",
     "text": [
      "          Mean Median   Std\n",
      "Gender                     \n",
      "Female    $84k   $71k  $38k\n",
      "Unknown   $99k   $83k  $56k\n",
      "Male     $102k   $87k  $56k\n"
     ]
    }
   ],
   "source": [
    "# Mean Pay\n",
    "gendered_stats = pd.DataFrame()\n",
    "\n",
    "gendered_stats['Mean'] = gendered[\"Pay\"].mean().sort_values().map(make_k)\n",
    "gendered_stats['Median'] = gendered[\"Pay\"].median().sort_values().map(make_k)\n",
    "gendered_stats['Std'] = gendered[\"Pay\"].std().sort_values().map(make_k)\n",
    "print(gendered_stats)\n",
    "\n",
    "#.to_string(header=False)"
   ]
  },
  {
   "cell_type": "code",
   "execution_count": 121,
   "metadata": {},
   "outputs": [
    {
     "name": "stdout",
     "output_type": "stream",
     "text": [
      "Significantly different\n"
     ]
    },
    {
     "data": {
      "image/png": "[encoded data removed]",
      "text/plain": [
       "<matplotlib.figure.Figure at 0x2135ff65ba8>"
      ]
     },
     "metadata": {},
     "output_type": "display_data"
    }
   ],
   "source": [
    "# Anova\n",
    "female_pay = gendered.get_group('Female').Pay.map(log10).values\n",
    "male_pay = gendered.get_group('Male').Pay.map(log10).values\n",
    "statistic, pvalue = st.mannwhitneyu(female_pay,male_pay)\n",
    "analyze_pvalue(pvalue)\n",
    "named_salaries.boxplot(column='Pay', by='Gender', vert=False)\n",
    "plt.show()"
   ]
  }
 ],
 "metadata": {
  "kernelspec": {
   "display_name": "Python [conda env:Anaconda3]",
   "language": "python",
   "name": "conda-env-Anaconda3-py"
  },
  "language_info": {
   "codemirror_mode": {
    "name": "ipython",
    "version": 3
   },
   "file_extension": ".py",
   "mimetype": "text/x-python",
   "name": "python",
   "nbconvert_exporter": "python",
   "pygments_lexer": "ipython3",
   "version": "3.5.4"
  }
 },
 "nbformat": 4,
 "nbformat_minor": 2
}
